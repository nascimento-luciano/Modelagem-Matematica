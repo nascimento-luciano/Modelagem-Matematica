{
  "nbformat": 4,
  "nbformat_minor": 0,
  "metadata": {
    "colab": {
      "provenance": [],
      "collapsed_sections": [],
      "authorship_tag": "ABX9TyNUFMPwOU94QVSxeWkq7miu",
      "include_colab_link": true
    },
    "kernelspec": {
      "name": "python3",
      "display_name": "Python 3"
    },
    "language_info": {
      "name": "python"
    }
  },
  "cells": [
    {
      "cell_type": "markdown",
      "metadata": {
        "id": "view-in-github",
        "colab_type": "text"
      },
      "source": [
        "<a href=\"https://colab.research.google.com/github/nascimento-luciano/Modelagem-Matematica/blob/main/2_Modelagem_Matematica_Simulacao.ipynb\" target=\"_parent\"><img src=\"https://colab.research.google.com/assets/colab-badge.svg\" alt=\"Open In Colab\"/></a>"
      ]
    },
    {
      "cell_type": "code",
      "execution_count": 213,
      "metadata": {
        "colab": {
          "base_uri": "https://localhost:8080/",
          "height": 312
        },
        "id": "yWCqYzjn2k9W",
        "outputId": "f8001d7f-83e6-403a-ea8d-3422f8db00b6"
      },
      "outputs": [
        {
          "output_type": "stream",
          "name": "stderr",
          "text": [
            "WARNING:matplotlib.legend:No handles with labels found to put in legend.\n"
          ]
        },
        {
          "output_type": "display_data",
          "data": {
            "text/plain": [
              "<Figure size 432x288 with 1 Axes>"
            ],
            "image/png": "[encoded data removed]"
          },
          "metadata": {
            "needs_background": "light"
          }
        }
      ],
      "source": [
        "#Exercício 1\n",
        "\n",
        "\n",
        "from pylab import *\n",
        "import numpy as np\n",
        "import scipy\n",
        "from scipy.integrate import odeint\n",
        "import matplotlib.pyplot as plt\n",
        "\n",
        "# função que retorna dy/dt\n",
        "\n",
        "def modelo(y,t):\n",
        "    dydt=y+t\n",
        "    return dydt\n",
        "\n",
        "# condição inicial\n",
        "\n",
        "y0=0\n",
        "\n",
        "# intervalo de tempo\n",
        "\n",
        "#t=np.linspace(0,1)\n",
        "\n",
        "y0 = 0 # condição inicial\n",
        "a = 0  # intervalo de integração\n",
        "b = 1  # intervalo de integração\n",
        "\n",
        "t = np.arange(a, b, 0.01) # discretizando t\n",
        "\n",
        "# resolve EDO\n",
        "\n",
        "y=odeint(modelo,y0,t)\n",
        "\n",
        "# plotar resultados\n",
        "\n",
        "title(\"Equações Diferenciais em Python\")\n",
        "legend()\n",
        "grid()\n",
        "\n",
        "plt.plot(t,y)\n",
        "plt.xlabel((\"tempo\"))\n",
        "plt.ylabel((\"y(t)\"))\n",
        "plt.show()\n",
        "\n"
      ]
    },
    {
      "cell_type": "markdown",
      "source": [
        "------------------------------------------------------------------------------"
      ],
      "metadata": {
        "id": "riVFjn157Vkn"
      }
    },
    {
      "cell_type": "code",
      "source": [
        "#Exercício 2\n",
        "\n",
        "\n",
        "from pylab import *\n",
        "import numpy as np\n",
        "import scipy\n",
        "from scipy.integrate import odeint\n",
        "import matplotlib.pyplot as plt\n",
        "\n",
        "# função que retorna dy/dt\n",
        "\n",
        "def modelo(y,t):\n",
        "    dydt=y-t\n",
        "    return dydt\n",
        "\n",
        "# condição inicial\n",
        "\n",
        "y0=0\n",
        "\n",
        "# intervalo de tempo\n",
        "\n",
        "#t=np.linspace(0,1)\n",
        "\n",
        "y0 = 2 # condição inicial\n",
        "a = 0  # intervalo de integração\n",
        "b = 1  # intervalo de integração\n",
        "\n",
        "t = np.arange(a, b, 0.01) # discretizando t\n",
        "\n",
        "# resolve EDO\n",
        "\n",
        "y=odeint(modelo,y0,t)\n",
        "\n",
        "# plotar resultados\n",
        "\n",
        "title(\"Equações Diferenciais em Python\")\n",
        "legend()\n",
        "grid()\n",
        "\n",
        "plt.plot(t,y)\n",
        "plt.xlabel((\"tempo\"))\n",
        "plt.ylabel((\"y(t)\"))\n",
        "plt.show()\n",
        "\n"
      ],
      "metadata": {
        "colab": {
          "base_uri": "https://localhost:8080/",
          "height": 312
        },
        "id": "JrSZyhHK57mA",
        "outputId": "cbcb979a-e837-4efe-c7c6-c60c837c8cb5"
      },
      "execution_count": 214,
      "outputs": [
        {
          "output_type": "stream",
          "name": "stderr",
          "text": [
            "WARNING:matplotlib.legend:No handles with labels found to put in legend.\n"
          ]
        },
        {
          "output_type": "display_data",
          "data": {
            "text/plain": [
              "<Figure size 432x288 with 1 Axes>"
            ],
            "image/png": "[encoded data removed]"
          },
          "metadata": {
            "needs_background": "light"
          }
        }
      ]
    },
    {
      "cell_type": "markdown",
      "source": [
        "------------------------------------------------------------------------------"
      ],
      "metadata": {
        "id": "5NjDP-GY7bKe"
      }
    },
    {
      "cell_type": "code",
      "source": [
        "#Exercício 3\n",
        "\n",
        "\n",
        "#Importando bibliotecas\n",
        "from pylab import plot,xlabel,ylabel,show,legend\n",
        "from random import random\n",
        "from numpy import arange"
      ],
      "metadata": {
        "id": "zRJ33eab6Ezf"
      },
      "execution_count": 215,
      "outputs": []
    },
    {
      "cell_type": "code",
      "source": [
        "\n",
        "#Definir constantes e parãmetros\n",
        "NCo = 27              #número de átomos de tálio 208\n",
        "\n",
        "tau = 5.3             #tempo de meia-vida do cobalto-60 em anos\n",
        "h = 1.0               #passo de tempo (segundos)\n",
        "p = 1 - 2**(-h/tau)   #probabilidade\n",
        "tmax = 1000           #tempo total de simulação"
      ],
      "metadata": {
        "id": "Mtp1_4SO_Xob"
      },
      "execution_count": 216,
      "outputs": []
    },
    {
      "cell_type": "code",
      "source": [
        "#Criando listas\n",
        "tpoints = arange(0,tmax,h)\n",
        "Co = []"
      ],
      "metadata": {
        "id": "hRn85XdaD0YT"
      },
      "execution_count": 217,
      "outputs": []
    },
    {
      "cell_type": "code",
      "source": [
        "#Criando loop\n",
        "for t in tpoints:\n",
        "    Co.append(NCo)\n",
        "  \n",
        "    #cálculo dos átomos que decaem\n",
        "    decay = 0\n",
        "    for i in range(NCo):\n",
        "        if random()<p:\n",
        "            decay += 1\n",
        "    NCo -= decay   "
      ],
      "metadata": {
        "id": "rsIQ9gZ9Dm3M"
      },
      "execution_count": 218,
      "outputs": []
    },
    {
      "cell_type": "code",
      "source": [
        "#Gerando gráficos\n",
        "plot(tpoints,Co)\n",
        "legend([\"Átomos do Cobalto-60\"])\n",
        "xlabel(\"Tempo\")\n",
        "ylabel(\"Número de átomos\")\n",
        "show()"
      ],
      "metadata": {
        "colab": {
          "base_uri": "https://localhost:8080/",
          "height": 279
        },
        "id": "0pcgreMYDoSZ",
        "outputId": "bb5cf99c-b527-4ea9-f158-eaf32cd8f242"
      },
      "execution_count": 219,
      "outputs": [
        {
          "output_type": "display_data",
          "data": {
            "text/plain": [
              "<Figure size 432x288 with 1 Axes>"
            ],
            "image/png": "[encoded data removed]"
          },
          "metadata": {
            "needs_background": "light"
          }
        }
      ]
    }
  ]
}